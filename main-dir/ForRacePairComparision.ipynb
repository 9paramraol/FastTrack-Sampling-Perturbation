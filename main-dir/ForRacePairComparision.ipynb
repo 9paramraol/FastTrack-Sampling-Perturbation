{
 "cells": [
  {
   "cell_type": "code",
   "execution_count": 101,
   "metadata": {},
   "outputs": [],
   "source": [
    "benchmark = \"xalan\"\n",
    "\n",
    "file1 = open('./data_input/input_' + benchmark, 'r')\n",
    "Lines = file1.readlines()\n",
    "\n",
    "Larr = []\n",
    "file1 = open('./perturb/results_'+benchmark+'_S100_T100_C10', 'r')\n",
    "Larr = Larr +file1.readlines()\n",
    "file1 = open('./perturb/results_'+benchmark+'_S100_T100_C20', 'r')\n",
    "Larr = Larr +file1.readlines()\n",
    "file1 = open('./perturb/results_'+benchmark+'_S100_T200_C10', 'r')\n",
    "Larr = Larr +file1.readlines()\n",
    "file1 = open('./perturb/results_'+benchmark+'_S100_T100_C20', 'r')\n",
    "Larr = Larr +file1.readlines()\n",
    "file1 = open('./perturb/results_'+benchmark+'_S100_T50_C10', 'r')\n",
    "Larr = Larr +file1.readlines()\n",
    "file1 = open('./perturb/results_'+benchmark+'_S100_T50_C10', 'r')\n",
    "Larr = Larr +file1.readlines()\n",
    "file1 = open('./perturb/norep_results_'+benchmark+'_S100_T100_C10', 'r')\n",
    "Larr = Larr +file1.readlines()\n",
    "file1 = open('./perturb/norep_results_'+benchmark+'_S100_T100_C20', 'r')\n",
    "Larr = Larr +file1.readlines()\n",
    "file1 = open('./perturb/norep_results_'+benchmark+'_S100_T200_C10', 'r')\n",
    "Larr = Larr +file1.readlines()\n",
    "file1 = open('./perturb/norep_results_'+benchmark+'_S100_T100_C20', 'r')\n",
    "Larr = Larr +file1.readlines()\n",
    "file1 = open('./perturb/norep_results_'+benchmark+'_S100_T50_C10', 'r')\n",
    "Larr = Larr +file1.readlines()\n",
    "file1 = open('./perturb/norep_results_'+benchmark+'_S100_T50_C10', 'r')\n",
    "Larr = Larr +file1.readlines()"
   ]
  },
  {
   "cell_type": "code",
   "execution_count": 102,
   "metadata": {},
   "outputs": [],
   "source": [
    "def pairs_map(larr):\n",
    "    templen = len(larr)\n",
    "    ans_map = {}\n",
    "    for i in range(0,templen//2):\n",
    "        tempstr = larr[2*i] + \"|\" + larr[2*i+1]\n",
    "        ans_map[tempstr] = 0\n",
    "        tempstr = larr[2*i+1] + \"|\" + larr[2*i]\n",
    "        ans_map[tempstr] = 0\n",
    "    return ans_map"
   ]
  },
  {
   "cell_type": "code",
   "execution_count": 103,
   "metadata": {},
   "outputs": [],
   "source": [
    "ft2 = pairs_map(Lines)\n",
    "ft2SS = pairs_map(Larr)"
   ]
  },
  {
   "cell_type": "code",
   "execution_count": 104,
   "metadata": {},
   "outputs": [
    {
     "data": {
      "text/plain": [
       "0"
      ]
     },
     "execution_count": 104,
     "metadata": {},
     "output_type": "execute_result"
    }
   ],
   "source": [
    "races_not_detected = 0\n",
    "for key in ft2:\n",
    "    if (key not in ft2SS):\n",
    "        races_not_detected += 1\n",
    "        print(key)\n",
    "races_not_detected"
   ]
  },
  {
   "cell_type": "code",
   "execution_count": 105,
   "metadata": {},
   "outputs": [
    {
     "data": {
      "text/plain": [
       "74"
      ]
     },
     "execution_count": 105,
     "metadata": {},
     "output_type": "execute_result"
    }
   ],
   "source": [
    "races_detected = 0\n",
    "for key in ft2:\n",
    "    if (key in ft2SS):\n",
    "        races_detected += 1\n",
    "races_detected"
   ]
  },
  {
   "cell_type": "code",
   "execution_count": 106,
   "metadata": {},
   "outputs": [
    {
     "data": {
      "text/plain": [
       "0"
      ]
     },
     "execution_count": 106,
     "metadata": {},
     "output_type": "execute_result"
    }
   ],
   "source": [
    "new_races_detected = 0\n",
    "for key in ft2SS:\n",
    "    if (key not in ft2):\n",
    "        new_races_detected += 1\n",
    "new_races_detected"
   ]
  },
  {
   "cell_type": "code",
   "execution_count": 107,
   "metadata": {},
   "outputs": [
    {
     "data": {
      "text/plain": [
       "74"
      ]
     },
     "execution_count": 107,
     "metadata": {},
     "output_type": "execute_result"
    }
   ],
   "source": []
  },
  {
   "cell_type": "code",
   "execution_count": 41,
   "metadata": {},
   "outputs": [],
   "source": [
    "a = 14106+13903+14315+13741"
   ]
  },
  {
   "cell_type": "code",
   "execution_count": 42,
   "metadata": {},
   "outputs": [
    {
     "data": {
      "text/plain": [
       "2.5107286185677338"
      ]
     },
     "execution_count": 42,
     "metadata": {},
     "output_type": "execute_result"
    }
   ],
   "source": [
    "b = 34937+36052+33949+35826\n",
    "b/a"
   ]
  },
  {
   "cell_type": "code",
   "execution_count": 43,
   "metadata": {},
   "outputs": [
    {
     "data": {
      "text/plain": [
       "2.893355926157139"
      ]
     },
     "execution_count": 43,
     "metadata": {},
     "output_type": "execute_result"
    }
   ],
   "source": [
    "c = 41550+40546+40398+39722\n",
    "c/a"
   ]
  },
  {
   "cell_type": "code",
   "execution_count": 44,
   "metadata": {},
   "outputs": [
    {
     "data": {
      "text/plain": [
       "3.0730223847320075"
      ]
     },
     "execution_count": 44,
     "metadata": {},
     "output_type": "execute_result"
    }
   ],
   "source": [
    "d = 45175+44004+37595+45515\n",
    "d/a"
   ]
  },
  {
   "cell_type": "code",
   "execution_count": 45,
   "metadata": {},
   "outputs": [
    {
     "data": {
      "image/png": "[encoded data removed]",
      "text/plain": [
       "<Figure size 432x288 with 1 Axes>"
      ]
     },
     "metadata": {
      "needs_background": "light"
     },
     "output_type": "display_data"
    }
   ],
   "source": [
    "import numpy as np\n",
    "import matplotlib.pyplot as plt\n",
    "\n",
    "# data to plot\n",
    "n_groups = 5\n",
    "\n",
    "means_ft2 = (3.37, 2.05, 1.25, 3.93, 2.51)\n",
    "means_fts10 = (4.89, 2.52, 2.15, 9.47, 2.89)\n",
    "means_fts50 = (5.44, 2.82, 2.15, 9.44, 3.07)\n",
    "\n",
    "# create plot\n",
    "fig, ax = plt.subplots()\n",
    "index = np.arange(n_groups)\n",
    "bar_width = 0.3\n",
    "opacity = 0.8\n",
    "\n",
    "rects1 = plt.bar(index, means_ft2, bar_width,\n",
    "alpha=opacity,\n",
    "color='b',\n",
    "label='FT2')\n",
    "\n",
    "rects2 = plt.bar(index + bar_width, means_fts10, bar_width,\n",
    "alpha=opacity,\n",
    "color='g',\n",
    "label='FTS-10%')\n",
    "\n",
    "rects3 = plt.bar(index + bar_width*2, means_fts50, bar_width,\n",
    "alpha=opacity,\n",
    "color='r',\n",
    "label='FTS-50%')\n",
    "\n",
    "plt.xlabel('Benchmarks')\n",
    "plt.ylabel('Time (normalized)')\n",
    "plt.title('FT2 vs FTS')\n",
    "plt.xticks(index + bar_width, ('avrora', 'luindex', 'lusearch', 'sunflow', 'xalan'))\n",
    "plt.legend()\n",
    "\n",
    "plt.tight_layout()\n",
    "plt.show()"
   ]
  },
  {
   "cell_type": "code",
   "execution_count": null,
   "metadata": {},
   "outputs": [],
   "source": []
  }
 ],
 "metadata": {
  "kernelspec": {
   "display_name": "Python 3",
   "language": "python",
   "name": "python3"
  },
  "language_info": {
   "codemirror_mode": {
    "name": "ipython",
    "version": 3
   },
   "file_extension": ".py",
   "mimetype": "text/x-python",
   "name": "python",
   "nbconvert_exporter": "python",
   "pygments_lexer": "ipython3",
   "version": "3.5.2"
  }
 },
 "nbformat": 4,
 "nbformat_minor": 4
}
